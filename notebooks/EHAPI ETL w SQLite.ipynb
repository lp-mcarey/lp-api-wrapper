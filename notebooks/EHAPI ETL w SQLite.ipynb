{
 "cells": [
  {
   "cell_type": "markdown",
   "metadata": {},
   "source": [
    "# EHAPI ETL w SQLite\n",
    "\n",
    "LivePerson MIAPI Documention:\n",
    "https://developers.liveperson.com/data-messaging-interactions-overview.html\n",
    "\n",
    "Unofficial LP Api Wrapper:\n",
    "https://github.com/ajoneslp/liveperson-api-python-wrapper\n",
    "\n",
    "To Install the lp_api_wrapper:\n",
    "\n",
    "*Note: Please use Python 3.4+*\n",
    "\n",
    "```bash\n",
    "$ pip install --upgrade lp_api_wrapper\n",
    "```\n",
    "\n",
    "\n",
    "* Contact: Anthony Jones (ajones@liveperson.com)\n",
    "* Date: May 24, 2018\n",
    "* lp_api_wrapper [v0.8.0]"
   ]
  },
  {
   "cell_type": "code",
   "execution_count": 1,
   "metadata": {},
   "outputs": [],
   "source": [
    "import pandas as pd\n",
    "from datetime import datetime, timedelta\n",
    "from lp_api_wrapper import EngagementHistoryDB, UserLogin\n",
    "pd.set_option('display.max_columns', 500)"
   ]
  },
  {
   "cell_type": "markdown",
   "metadata": {},
   "source": [
    "# SQLite DB Options\n",
    "\n",
    "1. Store DB in a file.\n",
    "```python\n",
    "db_name='chat.db'\n",
    "```\n",
    "\n",
    "2. Temp DB (Stored as a file temporarily.  When DB is closed, file is removed)\n",
    "```python\n",
    "db_name=''\n",
    "```\n",
    "\n",
    "3. In-Memory DB\n",
    "```python\n",
    "db_name=None\n",
    "```"
   ]
  },
  {
   "cell_type": "code",
   "execution_count": 2,
   "metadata": {},
   "outputs": [],
   "source": [
    "account_id = '60270350' # MSFT\n",
    "\n",
    "auth = UserLogin(account_id=account_id, username='LPA-lpscorecards', password='SC22lpsn!!')\n",
    "eh_db = EngagementHistoryDB(auth=auth, db_name='chat.db')"
   ]
  },
  {
   "cell_type": "code",
   "execution_count": 3,
   "metadata": {},
   "outputs": [],
   "source": [
    "start_from = int((datetime.now() - timedelta(days=.1)).timestamp() * 1000)\n",
    "start_to = int(datetime.now().timestamp() * 1000)\n",
    "body = {'start': {'from': start_from, 'to': start_to}}"
   ]
  },
  {
   "cell_type": "code",
   "execution_count": 4,
   "metadata": {},
   "outputs": [
    {
     "name": "stdout",
     "output_type": "stream",
     "text": [
      "[EH DB Status]: Inserted 0-100 rows of 861\n",
      "[EH DB Status]: Inserted 700-800 rows of 861\n",
      "[EH DB Status]: Inserted 400-500 rows of 861\n",
      "[EH DB Status]: Inserted 100-200 rows of 861\n",
      "[EH DB Status]: Inserted 600-700 rows of 861\n",
      "[EH DB Status]: Inserted 200-300 rows of 861\n",
      "[EH DB Status]: Inserted 800-900 rows of 861\n",
      "[EH DB Status]: Inserted 500-600 rows of 861\n",
      "[EH DB Status]: Inserted 300-400 rows of 861\n"
     ]
    }
   ],
   "source": [
    "eh_db.load_data_into_db(body, debug=1)"
   ]
  },
  {
   "cell_type": "markdown",
   "metadata": {},
   "source": [
    "# Execute SQL and store results as a DataFrame"
   ]
  },
  {
   "cell_type": "code",
   "execution_count": null,
   "metadata": {},
   "outputs": [],
   "source": []
  },
  {
   "cell_type": "code",
   "execution_count": 15,
   "metadata": {},
   "outputs": [],
   "source": [
    "sql = \"\"\"\n",
    "select text from transcript\n",
    "limit 1\n",
    ";\n",
    "\"\"\"\n",
    "df = eh_db.to_df(sql)"
   ]
  },
  {
   "cell_type": "code",
   "execution_count": 16,
   "metadata": {},
   "outputs": [
    {
     "data": {
      "text/html": [
       "<div>\n",
       "<style scoped>\n",
       "    .dataframe tbody tr th:only-of-type {\n",
       "        vertical-align: middle;\n",
       "    }\n",
       "\n",
       "    .dataframe tbody tr th {\n",
       "        vertical-align: top;\n",
       "    }\n",
       "\n",
       "    .dataframe thead th {\n",
       "        text-align: right;\n",
       "    }\n",
       "</style>\n",
       "<table border=\"1\" class=\"dataframe\">\n",
       "  <thead>\n",
       "    <tr style=\"text-align: right;\">\n",
       "      <th></th>\n",
       "      <th>text</th>\n",
       "    </tr>\n",
       "  </thead>\n",
       "  <tbody>\n",
       "    <tr>\n",
       "      <th>0</th>\n",
       "      <td>Obrigado por contatar a Microsoft.  Um agente ...</td>\n",
       "    </tr>\n",
       "  </tbody>\n",
       "</table>\n",
       "</div>"
      ],
      "text/plain": [
       "                                                text\n",
       "0  Obrigado por contatar a Microsoft.  Um agente ..."
      ]
     },
     "execution_count": 16,
     "metadata": {},
     "output_type": "execute_result"
    }
   ],
   "source": [
    "df['text']"
   ]
  },
  {
   "cell_type": "markdown",
   "metadata": {},
   "source": [
    "# Export Results to CSV"
   ]
  },
  {
   "cell_type": "code",
   "execution_count": 7,
   "metadata": {},
   "outputs": [],
   "source": [
    "df.to_csv('info_chat.csv', index=False)"
   ]
  },
  {
   "cell_type": "markdown",
   "metadata": {},
   "source": [
    "# Close and Delete DB file."
   ]
  },
  {
   "cell_type": "code",
   "execution_count": 8,
   "metadata": {},
   "outputs": [
    {
     "name": "stdout",
     "output_type": "stream",
     "text": [
      "chat.db has been deleted!\n"
     ]
    }
   ],
   "source": [
    "eh_db.close_db(delete=True)"
   ]
  }
 ],
 "metadata": {
  "kernelspec": {
   "display_name": "Python 3",
   "language": "python",
   "name": "python3"
  },
  "language_info": {
   "codemirror_mode": {
    "name": "ipython",
    "version": 3
   },
   "file_extension": ".py",
   "mimetype": "text/x-python",
   "name": "python",
   "nbconvert_exporter": "python",
   "pygments_lexer": "ipython3",
   "version": "3.6.5"
  }
 },
 "nbformat": 4,
 "nbformat_minor": 2
}
